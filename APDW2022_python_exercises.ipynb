{
 "cells": [
  {
   "cell_type": "markdown",
   "metadata": {},
   "source": [
    "# APDW2022 python for scattering tutorial\n",
    "\n",
    "Contents:  \n",
    "[Importing libraries](#imports)  \n",
    "[Loading data](#loading)  \n",
    "[Plotting](#plotting)  \n",
    "[_In situ_ data exercise](#insitu)  \n",
    "[Interactive plotting](#interactive)  \n",
    "[Heatmap plotting](#heatmap)  \n",
    "[Peak finding](#peakfinding)  \n",
    "[Making animations](#animation)  \n",
    "[Background subtraction](#background)  \n",
    "[HDF format data](#hdf)"
   ]
  },
  {
   "cell_type": "markdown",
   "metadata": {},
   "source": [
    "#### Import libraries <a id='imports'></a>\n",
    "In python libraries written by others are installed then imported.\n",
    "Here, we import the libraries we'll use for this tutorial.:\n",
    "  \n",
    "numpy, matplotlib, pandas, glob, os, ipywidgets, matplotlib.animation"
   ]
  },
  {
   "cell_type": "code",
   "execution_count": 1,
   "metadata": {},
   "outputs": [],
   "source": [
    "import glob\n",
    "import os\n",
    "import numpy as np\n",
    "import pandas as pd\n",
    "import matplotlib.pyplot as plt\n",
    "import matplotlib.animation\n",
    "import ipywidgets\n"
   ]
  },
  {
   "cell_type": "markdown",
   "metadata": {},
   "source": [
    "### Loading data <a id='loading'></a>\n",
    "We'll get a list of files from a data folder using `glob` a standard python library. We can call functions from libraries using the `.` operator. We can call the `glob()` function from the `glob` library like so: `glob.glob()`. This is a function that returns a list of files that match a pattern. Here we use `*` to match any group of characters, allowing us to match all `.dat` files. `.` represents the current directory.\n",
    "\n",
    "Use `glob.glob()` to read a list of all the .dat files in the `data` folder to the `files` variable, then show the list."
   ]
  },
  {
   "cell_type": "code",
   "execution_count": 1,
   "metadata": {},
   "outputs": [],
   "source": [
    "# files = ..."
   ]
  },
  {
   "cell_type": "markdown",
   "metadata": {},
   "source": [
    "Our variable `files` is a list of strings. We can access elements of the list by their index (starting at 0) using square brackets."
   ]
  },
  {
   "cell_type": "code",
   "execution_count": 3,
   "metadata": {},
   "outputs": [],
   "source": [
    "# files[...]"
   ]
  },
  {
   "cell_type": "markdown",
   "metadata": {},
   "source": [
    "We load one file into a pandas dataframe. Pandas (imported as `pd`) is a library for working with tabular data that uses the 'dataframe' data structure. Use the `pd.read_csv()` function to read a `.dat` file into a dataframe `df`.\n",
    "\n",
    "The `pd.read_csv()` function has a lot of options. Here we use `sep='\\s+'` to tell pandas that the columns are separated by whitespace. We use `header=None` to tell pandas that there is no header row in the file. We also use `skiprows=6` to skip the first 6 rows of the file, which contain metadata. Finally, we use `names=['q', 'I']` to give the columns names."
   ]
  },
  {
   "cell_type": "code",
   "execution_count": 4,
   "metadata": {},
   "outputs": [],
   "source": [
    "# df = ..."
   ]
  },
  {
   "cell_type": "markdown",
   "metadata": {},
   "source": [
    "Dataframes have many useful methods above standard python or numpy data structures and are widely used in data science. Here we use the `head()` method to show the first 5 rows of the dataframe. The column names can be used as indexes to access columns directly in a similar way to python dictionaries - e.g. `df['tth']` will give you the x axis tth (2θ) column."
   ]
  },
  {
   "cell_type": "code",
   "execution_count": null,
   "metadata": {},
   "outputs": [],
   "source": []
  },
  {
   "cell_type": "markdown",
   "metadata": {},
   "source": [
    "### Plotting data <a id='plotting'></a>\n",
    "\n",
    "We can do a quick plot directly from our dataframe using the `df.plot()` function. Use `x='tth'` and `y='i'` to tell pandas which columns to use for the x and y axes."
   ]
  },
  {
   "cell_type": "code",
   "execution_count": null,
   "metadata": {},
   "outputs": [],
   "source": []
  },
  {
   "cell_type": "markdown",
   "metadata": {},
   "source": [
    "We can make a nicer plot by accessing matplotlib functions directly. Try modifying the code below to change features of the plot.\n",
    "\n",
    "See here for some useful cheatsheets: https://matplotlib.org/cheatsheets/"
   ]
  },
  {
   "cell_type": "code",
   "execution_count": null,
   "metadata": {},
   "outputs": [],
   "source": [
    "# Define a figure\n",
    "plt.figure(figsize=(10, 6))\n",
    "\n",
    "# Plot to the figure with various style options\n",
    "plt.plot(\n",
    "    df['tth'], \n",
    "    df['i'],\n",
    "    marker='o',\n",
    "    markersize=3,\n",
    "    linewidth=0.5,\n",
    "    color='orange',)\n",
    "\n",
    "# Apply embellishments\n",
    "plt.title(f'{os.path.basename(files[0])}') # os.path.basename() returns the file name from a path\n",
    "plt.xlabel('2$\\Theta$')\n",
    "plt.ylabel('Intensity')\n",
    "plt.xlim(0, 130)\n",
    "plt.ylim(0, 175000)"
   ]
  },
  {
   "cell_type": "markdown",
   "metadata": {},
   "source": [
    "### _In situ_ data exercise <a id='insitu'></a>\n",
    "\n",
    "Now let's look at some _in situ_ data. Use the `glob()` to read a list of `.xy` files in `./data2/` to `files`. This is an _in situ_ diffraction dataset from the molten salt flux synthesis of a layered oxide perovskite from this paper: https://doi.org/10.1039/C6CC08133A"
   ]
  },
  {
   "cell_type": "code",
   "execution_count": null,
   "metadata": {},
   "outputs": [],
   "source": [
    "# files = ..."
   ]
  },
  {
   "cell_type": "markdown",
   "metadata": {},
   "source": [
    "It looks like these files are not in order! We'll need to sort these files by title so that they are in the correct order. However, the built in `sorted()` function doesn't work well - it orders 100 before 20, for example!\n",
    "\n",
    "We can install a python package called `natsort` to do this for us. In Jupyter, we use `!` to run a command in the terminal. `pip` accesses a large repository of python packages online. Many packages can be installed from the terminal using the `pip install <name of package>` command."
   ]
  },
  {
   "cell_type": "code",
   "execution_count": null,
   "metadata": {},
   "outputs": [],
   "source": [
    "!pip install natsort"
   ]
  },
  {
   "cell_type": "markdown",
   "metadata": {},
   "source": [
    "Now, import `natsort` and use the `natsort.natsorted()` function to sort the list of files."
   ]
  },
  {
   "cell_type": "code",
   "execution_count": null,
   "metadata": {},
   "outputs": [],
   "source": [
    "# import ...\n",
    "\n",
    "# files = ..."
   ]
  },
  {
   "cell_type": "markdown",
   "metadata": {},
   "source": [
    "Now that we have a list of files, we can load them into python. Our aim is to create a dataframe where each column corresponds to a diffraction pattern. We use a `for` loop where we iterate over every element of the list `files` sequentially."
   ]
  },
  {
   "cell_type": "code",
   "execution_count": null,
   "metadata": {},
   "outputs": [],
   "source": [
    "# Create an empty dataframe\n",
    "insitu_data = pd.DataFrame()\n",
    "\n",
    "# Loop through the files\n",
    "for file in files:\n",
    "\n",
    "    # Get file name to name the dataframe columns\n",
    "    filename = os.path.basename(file)\n",
    "\n",
    "    # Read the file\n",
    "    data = pd.read_csv(\n",
    "        file,\n",
    "        sep='\\s+',\n",
    "        header=None,\n",
    "        # skiprows=1,\n",
    "        names=['tth', filename]\n",
    "        )\n",
    "    \n",
    "    # Join the new data to the main dataframe\n",
    "    insitu_data = pd.concat([insitu_data, data[filename]], axis=1)\n",
    "\n",
    "# Find the x values (should be the same for all files)\n",
    "insitu_x = data['tth']\n",
    "\n",
    "# Show the first few lines of the dataframe\n",
    "insitu_data.head()"
   ]
  },
  {
   "cell_type": "markdown",
   "metadata": {},
   "source": [
    "### Interactive plotting <a id='interactive'></a>\n",
    "Let's plot the diffraction patterns in an interactive plot. We'll use the `ipywidgets` library to create a slider to select the pattern being viewed."
   ]
  },
  {
   "cell_type": "code",
   "execution_count": null,
   "metadata": {},
   "outputs": [],
   "source": [
    "# Interactive plot using ipywidgets interact\n",
    "from ipywidgets import interact\n",
    "\n",
    "# @interact is a 'decorator' that enables the interactive plot\n",
    "# we pass a range of values for function arguments to be used in interactive elements\n",
    "@interact(frame=(0, len(files)-1, 1))\n",
    "\n",
    "# Define a function that takes the interactive variables as arguments\n",
    "def plot_insitu(frame):\n",
    "    plt.figure(figsize=(10, 6))\n",
    "    plt.plot(insitu_x, insitu_data.iloc[:,frame])\n",
    "    plt.title(frame)\n",
    "    plt.xlabel('2$\\Theta$ ($^\\circ$)')\n",
    "    plt.ylabel('Intensity')\n",
    "    plt.xlim(0, 9)\n",
    "    plt.ylim(0, 10000)\n"
   ]
  },
  {
   "cell_type": "markdown",
   "metadata": {},
   "source": [
    "### Heatmap plotting <a id='heatmap'></a>\n",
    "\n",
    "We can also plot the data as a heatmap using matplotlib's `imshow()` method. We can clearly see phase transitions as precursor phases are converted to the product."
   ]
  },
  {
   "cell_type": "code",
   "execution_count": null,
   "metadata": {},
   "outputs": [],
   "source": [
    "plt.figure(figsize=(10, 6))\n",
    "plt.imshow(\n",
    "    insitu_data,\n",
    "    aspect='auto',\n",
    "    extent=[0, len(files), insitu_x.iloc[0], insitu_x.iloc[-1]], # define the range of axis values\n",
    "    )\n",
    "plt.xlabel('Frame #')\n",
    "plt.ylabel('2$\\Theta$ ($^\\circ$)')"
   ]
  },
  {
   "cell_type": "markdown",
   "metadata": {},
   "source": [
    "Exercise: create an interactive heatmap plot varying `vmin` and `vmax` in the `imshow()` method, which control the dynamic range."
   ]
  },
  {
   "cell_type": "code",
   "execution_count": 14,
   "metadata": {},
   "outputs": [
    {
     "data": {
      "application/vnd.jupyter.widget-view+json": {
       "model_id": "9d5714ecd74d43238ff0f522ff0f0d09",
       "version_major": 2,
       "version_minor": 0
      },
      "text/plain": [
       "interactive(children=(FloatSlider(value=0.0, description='vmin', max=11242.443, step=1.0), FloatSlider(value=1…"
      ]
     },
     "metadata": {},
     "output_type": "display_data"
    }
   ],
   "source": [
    "# @interact(\n",
    "#     ...\n",
    "# )\n",
    "\n",
    "# def plot_insitu(...):\n",
    "    "
   ]
  },
  {
   "cell_type": "markdown",
   "metadata": {},
   "source": [
    "### Peak finding <a id='peakfinding'></a>\n",
    "\n",
    "Once we load our data, we can use libraries to perform a wide range of operations on our data. As an exercise, let's find diffraction peaks with scipy, a popular library containing many functions for data analysis."
   ]
  },
  {
   "cell_type": "code",
   "execution_count": 15,
   "metadata": {},
   "outputs": [],
   "source": [
    "from scipy.signal import find_peaks_cwt, argrelextrema, savgol_filter"
   ]
  },
  {
   "cell_type": "markdown",
   "metadata": {},
   "source": [
    "Here we use `argrelextrema` to find maxima in the data. Exercise - try using another scipy function, `find_peaks_cwt`, and compare the results. "
   ]
  },
  {
   "cell_type": "code",
   "execution_count": 16,
   "metadata": {},
   "outputs": [
    {
     "data": {
      "text/plain": [
       "(200.0, 1500.0)"
      ]
     },
     "execution_count": 16,
     "metadata": {},
     "output_type": "execute_result"
    },
    {
     "data": {
      "image/png": "[encoded data removed]",
      "text/plain": [
       "<Figure size 1500x600 with 1 Axes>"
      ]
     },
     "metadata": {},
     "output_type": "display_data"
    }
   ],
   "source": [
    "# peaks = find_peaks_cwt(\n",
    "#     np.log(insitu_data['13.xy']), \n",
    "#     np.arange(1, 20))\n",
    "\n",
    "# First we cast the data to a numpy array so it can be used with the peak finding functions\n",
    "# We also take the log to improve the peak finding\n",
    "data = np.array(np.log(insitu_data['13.xy']))\n",
    "\n",
    "# Smooth the data with a Savitzky-Golay filter to mitigate noise\n",
    "data = savgol_filter(data, 5, 3)\n",
    "\n",
    "# Find the extrema\n",
    "peaks = argrelextrema(data, np.greater, order=2)\n",
    "\n",
    "# Plot the data\n",
    "plt.figure(figsize=(15, 6))\n",
    "plt.plot(insitu_data['13.xy'])\n",
    "\n",
    "# Plot the peak positions as vertical lines\n",
    "plt.vlines(peaks, 0, insitu_data['13.xy'].max(), color='red', linewidth=0.5)\n",
    "\n",
    "# Adjust plot scaling\n",
    "plt.xlim(200, 1500)\n",
    "# plt.ylim(0, 1000)"
   ]
  },
  {
   "cell_type": "markdown",
   "metadata": {},
   "source": [
    "Now try writing an interactive plot where you can tune various peak finding parameters and see the results in real time. You can check the scipy documentation on the algorithms for more information."
   ]
  },
  {
   "cell_type": "code",
   "execution_count": 17,
   "metadata": {},
   "outputs": [
    {
     "data": {
      "application/vnd.jupyter.widget-view+json": {
       "model_id": "9e31b84afe904d2e97872aa39cd2d457",
       "version_major": 2,
       "version_minor": 0
      },
      "text/plain": [
       "interactive(children=(IntSlider(value=3, description='window_length', max=20, min=1), IntSlider(value=2, descr…"
      ]
     },
     "metadata": {},
     "output_type": "display_data"
    }
   ],
   "source": [
    " # @interact(\n",
    "#     ...\n",
    "# )\n",
    "\n",
    "# def plot_peakfind(...):\n"
   ]
  },
  {
   "cell_type": "markdown",
   "metadata": {},
   "source": [
    "### Making animations <a id='animation'></a>\n",
    "Often it's useful to make an animation of in situ data for presentations. We can use the `matplotlib.animation` library to do this. Try adding a plotting command dependent on the 'frame' variable to the `animate()` function below.\n",
    "\n",
    "Note 1: we can access dataframe columns numerically by using `datafame.iloc[:, n]` rather than the column name.\n",
    "Note 2: matplotlib figures are actually composed of figures and axes. We can access these separately and plot to an axis directly using `ax.plot()`.\n"
   ]
  },
  {
   "cell_type": "code",
   "execution_count": null,
   "metadata": {},
   "outputs": [],
   "source": [
    "# make a plot animation\n",
    "import matplotlib.animation as animation\n",
    "\n",
    "fig, ax = plt.subplots()\n",
    "\n",
    "def animate(frame):\n",
    "    ax.clear()\n",
    "    ax.plot(insitu_data.iloc[:, frame])\n",
    "    ax.set_xlim(0,2000)\n",
    "    ax.set_ylim(0, 10000)\n",
    "    ax.set_title(f'Frame {frame}')\n",
    "\n",
    "# Create an animation object from a plotting variable\n",
    "ani = animation.FuncAnimation(fig, animate, frames=range(0, len(files)), interval=1)\n",
    "\n",
    "ani.save('in situ diffraction.mp4', writer='ffmpeg', fps=15, dpi=600)"
   ]
  },
  {
   "cell_type": "markdown",
   "metadata": {},
   "source": [
    "### Background subtraction <a id='background'></a>\n",
    "\n",
    "There are some very effective backgrounding functions available in python libraries. Let's do some background subtraction using the pybaselines library. First, install pybaselines with a pip terminal command."
   ]
  },
  {
   "cell_type": "code",
   "execution_count": null,
   "metadata": {},
   "outputs": [],
   "source": []
  },
  {
   "cell_type": "markdown",
   "metadata": {},
   "source": [
    "Now run the following cell then try some other baselines from the pybaselines library - see the [documentation](https://pybaselines.readthedocs.io/en/latest/) for more the different types."
   ]
  },
  {
   "cell_type": "code",
   "execution_count": null,
   "metadata": {},
   "outputs": [],
   "source": [
    "from pybaselines import Baseline\n",
    "\n",
    "x = insitu_data['13.xy'].index\n",
    "y = insitu_data['13.xy'].values\n",
    "\n",
    "# Make a baseline object\n",
    "baseline_fitter = Baseline(x, check_finite=False)\n",
    "\n",
    "# Fit different types of baselines\n",
    "bkg_2 = baseline_fitter.asls(y, lam=1e7, p=0.02)[0]\n",
    "bkg_5 = baseline_fitter.fabc(y)[0]\n",
    "bkg_6 = baseline_fitter.arpls(y)[0]\n",
    "bkg_7 = baseline_fitter.iarpls(y)[0]\n",
    "bkg_8 = baseline_fitter.derpsalsa(y)[0]\n",
    "\n",
    "\n",
    "plt.figure(figsize=(15, 6))\n",
    "\n",
    "plt.plot(x, y, label='raw data', lw=1.5)\n",
    "plt.plot(x, bkg_2, '--', label='asls')\n",
    "plt.plot(x, bkg_6, '--', label='arpls')\n",
    "plt.plot(x, bkg_7, '--', label='iarpls')\n",
    "plt.plot(x, bkg_8, '--', label='derpsalsa')\n",
    "\n",
    "# plt.xlim(00, 1200)\n",
    "plt.ylim(0, 2000)\n",
    "\n",
    "plt.legend()\n",
    "plt.show()"
   ]
  },
  {
   "cell_type": "markdown",
   "metadata": {},
   "source": [
    "Having the data in memory, you can easily subtract the baseline. Try plotting the background subtracted data."
   ]
  },
  {
   "cell_type": "code",
   "execution_count": null,
   "metadata": {},
   "outputs": [],
   "source": []
  },
  {
   "cell_type": "markdown",
   "metadata": {},
   "source": [
    "### HDF format data <a id='hdf'></a>\n",
    "\n",
    "See the [next tutorial](./data3/processAzintData_WB.ipynb) for more information on processing HDF format data - this uses data from DanMAX at MAX IV.\n",
    "\n"
   ]
  }
 ],
 "metadata": {
  "kernelspec": {
   "display_name": "Python 3.10.6 ('APDW2022')",
   "language": "python",
   "name": "python3"
  },
  "language_info": {
   "codemirror_mode": {
    "name": "ipython",
    "version": 3
   },
   "file_extension": ".py",
   "mimetype": "text/x-python",
   "name": "python",
   "nbconvert_exporter": "python",
   "pygments_lexer": "ipython3",
   "version": "3.10.6"
  },
  "orig_nbformat": 4,
  "vscode": {
   "interpreter": {
    "hash": "1649d9a6a85b46f94beba6e1a806b55d09878c14e484596d8a36012702537222"
   }
  }
 },
 "nbformat": 4,
 "nbformat_minor": 2
}
